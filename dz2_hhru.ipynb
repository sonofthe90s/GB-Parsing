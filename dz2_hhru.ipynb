{
 "cells": [
  {
   "cell_type": "code",
   "execution_count": 1,
   "metadata": {},
   "outputs": [],
   "source": [
    "from bs4 import BeautifulSoup as bs\n",
    "import requests\n",
    "from pprint import pprint\n",
    "import pandas as pd"
   ]
  },
  {
   "cell_type": "code",
   "execution_count": null,
   "metadata": {},
   "outputs": [],
   "source": [
    "main_link = 'https://hh.ru'\n",
    "\n",
    "search_vacancy = input('Введите вакансию для поиска: ')\n",
    "page = 0\n",
    "while True:\n",
    "    header = {'User-Agent': 'Mozilla/5.0 (Windows NT 10.0; Win64; x64) AppleWebKit/537.36 (KHTML, like Gecko) Chrome/83.0.4103.97 Safari/537.36'}\n",
    "\n",
    "    params = {'text': search_vacancy,\n",
    "              'clusters': 'true',\n",
    "              'enable_snippets': 'true',\n",
    "              'salary': '',\n",
    "              'st': 'searchVacancy',\n",
    "              'fromSearch': 'true'}\n",
    "\n",
    "    response = requests.get(main_link + '/search/vacancy/', params=params, headers=header)\n",
    "    soup = bs(response.text, 'html.parser')\n",
    "\n",
    "    vacancy_block = soup.find('div', {'class': 'vacancy-serp'})\n",
    "\n",
    "    vacancy_list = vacancy_block.findChildren(recursive=False)\n",
    "\n",
    "    vacancies = []\n",
    "\n",
    "    for vacancy in vacancy_list:\n",
    "        if vacancy['class'] == ['vacancy-serp-item'] or vacancy['class'] == ['vacancy-serp-item', 'vacancy-serp-item_premium']:\n",
    "            link = vacancy.find('a', {'class': 'bloko-link HH-LinkModifier'})['href']\n",
    "            company = vacancy.find('a', {'class': 'bloko-link bloko-link_secondary'}).text\n",
    "            city = vacancy.find('span', {'class': 'vacancy-serp-item__meta-info'}).text\n",
    "            name = vacancy.find('a', {'data-qa': 'vacancy-serp__vacancy-title'}).text\n",
    "            try:\n",
    "                salary = vacancy.find('span', {'data-qa': 'vacancy-serp__vacancy-compensation'}).text\n",
    "            except AttributeError:\n",
    "                salary = 'None'\n",
    "            salary = salary.replace('\\xa0', '')\n",
    "\n",
    "            vacancy_data = {'link': link,\n",
    "                            'company': company,\n",
    "                            'city': city,\n",
    "                            'name': name,\n",
    "                            'salary': salary}\n",
    "\n",
    "            vacancies.append(vacancy_data)\n",
    "\n",
    "    page += 1\n",
    "\n",
    "    if not soup.find('a', {'class': 'bloko-button HH-Pager-Controls-Next HH-Pager-Control'}):\n",
    "        break\n"
   ]
  },
  {
   "cell_type": "code",
   "execution_count": null,
   "metadata": {},
   "outputs": [],
   "source": [
    "df_vacancies = pd.DataFrame(vacancies)"
   ]
  },
  {
   "cell_type": "code",
   "execution_count": null,
   "metadata": {},
   "outputs": [],
   "source": [
    "df_vacancies.head(5)"
   ]
  }
 ],
 "metadata": {
  "kernelspec": {
   "display_name": "Python 3",
   "language": "python",
   "name": "python3"
  },
  "language_info": {
   "codemirror_mode": {
    "name": "ipython",
    "version": 3
   },
   "file_extension": ".py",
   "mimetype": "text/x-python",
   "name": "python",
   "nbconvert_exporter": "python",
   "pygments_lexer": "ipython3",
   "version": "3.7.6"
  }
 },
 "nbformat": 4,
 "nbformat_minor": 4
}
